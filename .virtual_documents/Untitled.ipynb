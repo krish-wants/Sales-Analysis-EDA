


import pandas as pd
import numpy as np
import matplotlib.pyplot as plt
import seaborn as sns

file_path = r"C:\Users\Krish Tyagi\Desktop\Python_Diwali_Sales_Analysis-main\Python_Diwali_Sales_Analysis-main\Diwali Sales Data.csv"

# Load safely with common Excel encoding
df = pd.read_csv(file_path, encoding="latin1")





df.head()


df.tail()



df.info()


df.describe()


df.shape


df.head()


print(df.columns.tolist())



df.drop(columns=["Status", "unnamed1"], inplace=True, errors="ignore")



df


df.info()





pd.isnull(df).sum()


df.dropna(inplace=True)


pd.isnull(df).sum()


df['Amount'].dtypes


df['Amount']=df['Amount'].astype('int')


df['Amount'].dtypes


df.info()





ax = sns.countplot(x = 'Gender',data = df,hue="Marital_Status")

for bars in ax.containers:
    ax.bar_label(bars)





sales_gen = df.groupby(['Gender'], as_index=False)['Amount'].sum().sort_values(by='Amount', ascending=False)

sns.barplot(x = 'Gender',y= 'Amount' ,data = sales_gen)


ax = sns.countplot(x="Gender", data=df, hue="Gender", palette="Set2", legend=False)
for bars in ax.containers:
    ax.bar_label(bars)

plt.show()





ax = sns.countplot(data = df, x = 'Age Group', hue = 'Gender')

for bars in ax.containers:
    ax.bar_label(bars)


sales_age = df.groupby(['Age Group'], as_index=False)['Amount'].sum().sort_values(by='Amount', ascending=False)

sns.barplot(x = 'Age Group',y= 'Amount' ,data = sales_age)


sns.barplot(
    x='Age Group',
    y='Amount',
    data=sales_age,
    hue='Age Group',     
    palette="Set2",
    legend=False       
)






sales_state = df.groupby(['State'], as_index=False)['Orders'].sum().sort_values(by='Orders', ascending=False).head(10)

sns.set(rc={'figure.figsize':(15,5)})
sns.barplot(data = sales_state, x = 'State',y= 'Orders',hue='State',palette='Set2')


# total amount/sales from top 10 states

sales_state = df.groupby(['State'], as_index=False)['Amount'].sum().sort_values(by='Amount', ascending=False).head(10)

sns.set(rc={'figure.figsize':(15,5)})
sns.barplot(data = sales_state, x = 'State',y= 'Amount',hue='State',palette='Set2')





ax = sns.countplot(data = df, x = 'Marital_Status',hue='Marital_Status',palette='Set2')

sns.set(rc={'figure.figsize':(7,5)})
for bars in ax.containers:
    ax.bar_label(bars)


sales_state = df.groupby(['Marital_Status', 'Gender'], as_index=False)['Amount'].sum().sort_values(by='Amount', ascending=False)
sns.set(rc={'figure.figsize':(6,5)})
sns.barplot(data = sales_state, x = 'Marital_Status',y= 'Amount', hue='Gender')





sns.set(rc={'figure.figsize':(20,5)})
ax = sns.countplot(data = df, x = 'Occupation',hue='Occupation',palette='Set2')

for bars in ax.containers:
    ax.bar_label(bars)


sales_state = df.groupby(['Occupation'], as_index=False)['Amount'].sum().sort_values(by='Amount', ascending=False)

sns.set(rc={'figure.figsize':(20,5)})
sns.barplot(data = sales_state, x = 'Occupation',y= 'Amount',hue='Occupation',palette='Set2')





sns.set(rc={'figure.figsize':(20,5)})
ax = sns.countplot(data = df, x = 'Product_Category',hue='Product_Category',palette='Set2')

for bars in ax.containers:
    ax.bar_label(bars)


sales_state = df.groupby(['Product_ID'], as_index=False)['Orders'].sum().sort_values(by='Orders', ascending=False).head(10)

sns.set(rc={'figure.figsize':(20,5)})
sns.barplot(data = sales_state, x = 'Product_ID',y= 'Orders',hue='Product_ID',palette='Set2')


# top 10 most sold products 

fig1, ax1 = plt.subplots(figsize=(12,7))
df.groupby('Product_ID')['Orders'].sum().nlargest(10).sort_values(ascending=False).plot(kind='bar')






